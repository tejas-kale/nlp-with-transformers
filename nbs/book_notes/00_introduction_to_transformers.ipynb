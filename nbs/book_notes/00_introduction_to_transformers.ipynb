{
 "cells": [
  {
   "cell_type": "markdown",
   "source": [
    "The `transformers` library by Huggingface provides a convenient interface to perform common NLP tasks. In the rest of the notebook, we will quickly explore the different possible applications on a sample text."
   ],
   "metadata": {
    "collapsed": false
   },
   "id": "b82239241e68616b"
  },
  {
   "cell_type": "code",
   "execution_count": 1,
   "outputs": [],
   "source": [
    "import pandas as pd\n",
    "from transformers import pipeline"
   ],
   "metadata": {
    "collapsed": false,
    "ExecuteTime": {
     "end_time": "2023-12-15T01:26:35.943865Z",
     "start_time": "2023-12-15T01:26:33.568516Z"
    }
   },
   "id": "ba61bf085ba8c68d"
  },
  {
   "cell_type": "code",
   "execution_count": 2,
   "outputs": [],
   "source": [
    "# Excerpt from https://www.economist.com/europe/2023/12/10/europe-a-laggard-in-ai-seizes-the-lead-in-its-regulation\n",
    "text: str = \"\"\"\n",
    "Most important, it is not clear how well the ai act will be enforced—an ongoing problem with recent digital laws passed by the eu, given that it is a club of independent countries. In the case of the gdpr, national data-protection agencies are mainly in charge, which has led to differing interpretations of the rules and less than optimal enforcement. In the case of the Digital Services Act and the Digital Markets Act, two recent laws to regulate online platforms, enforcement is concentrated in Brussels at the commission. The ai act is more of a mix, but experts worry that some national bodies will lack the expertise to prosecute violations, which can lead to fines of up to €35m ($38m) or 7% of a company’s global revenue.\n",
    "\"\"\""
   ],
   "metadata": {
    "collapsed": false,
    "ExecuteTime": {
     "end_time": "2023-12-15T01:26:46.186642Z",
     "start_time": "2023-12-15T01:26:46.184691Z"
    }
   },
   "id": "fcc992c05710f5da"
  },
  {
   "cell_type": "markdown",
   "source": [
    "### Sentiment analysis\n",
    "\n",
    "First, we will use the `text-classification` module to get the sentiment of the text, which is the default form of classification it is configured to do. When we execute for the first time, the relevant models, tokeniser, and vocabulary are downloaded from [Hugging Face Hub](https://oreil.ly/zLK11). The model is downloaded based on whether we have PyTorch, TensorFlow, or Flax installed.  "
   ],
   "metadata": {
    "collapsed": false
   },
   "id": "848165b97a185064"
  },
  {
   "cell_type": "code",
   "execution_count": 3,
   "outputs": [
    {
     "name": "stderr",
     "output_type": "stream",
     "text": [
      "No model was supplied, defaulted to distilbert-base-uncased-finetuned-sst-2-english and revision af0f99b (https://huggingface.co/distilbert-base-uncased-finetuned-sst-2-english).\n",
      "Using a pipeline without specifying a model name and revision in production is not recommended.\n"
     ]
    },
    {
     "data": {
      "text/plain": "Downloading config.json:   0%|          | 0.00/629 [00:00<?, ?B/s]",
      "application/vnd.jupyter.widget-view+json": {
       "version_major": 2,
       "version_minor": 0,
       "model_id": "26a5cca1c8df469cb22472b9dd855ab2"
      }
     },
     "metadata": {},
     "output_type": "display_data"
    },
    {
     "data": {
      "text/plain": "Downloading model.safetensors:   0%|          | 0.00/268M [00:00<?, ?B/s]",
      "application/vnd.jupyter.widget-view+json": {
       "version_major": 2,
       "version_minor": 0,
       "model_id": "c4169cda84ef41d2a4204148692331f9"
      }
     },
     "metadata": {},
     "output_type": "display_data"
    },
    {
     "data": {
      "text/plain": "Downloading tokenizer_config.json:   0%|          | 0.00/48.0 [00:00<?, ?B/s]",
      "application/vnd.jupyter.widget-view+json": {
       "version_major": 2,
       "version_minor": 0,
       "model_id": "0e480efa3e5346689ea9f56e9b0cc240"
      }
     },
     "metadata": {},
     "output_type": "display_data"
    },
    {
     "data": {
      "text/plain": "Downloading vocab.txt:   0%|          | 0.00/232k [00:00<?, ?B/s]",
      "application/vnd.jupyter.widget-view+json": {
       "version_major": 2,
       "version_minor": 0,
       "model_id": "1e239e6bd9a144f59d359724aa685e65"
      }
     },
     "metadata": {},
     "output_type": "display_data"
    },
    {
     "data": {
      "text/plain": "      label     score\n0  NEGATIVE  0.998763",
      "text/html": "<div>\n<style scoped>\n    .dataframe tbody tr th:only-of-type {\n        vertical-align: middle;\n    }\n\n    .dataframe tbody tr th {\n        vertical-align: top;\n    }\n\n    .dataframe thead th {\n        text-align: right;\n    }\n</style>\n<table border=\"1\" class=\"dataframe\">\n  <thead>\n    <tr style=\"text-align: right;\">\n      <th></th>\n      <th>label</th>\n      <th>score</th>\n    </tr>\n  </thead>\n  <tbody>\n    <tr>\n      <th>0</th>\n      <td>NEGATIVE</td>\n      <td>0.998763</td>\n    </tr>\n  </tbody>\n</table>\n</div>"
     },
     "execution_count": 3,
     "metadata": {},
     "output_type": "execute_result"
    }
   ],
   "source": [
    "classifier = pipeline(\"text-classification\")\n",
    "classifier_outputs = classifier(text)\n",
    "pd.DataFrame(classifier_outputs)"
   ],
   "metadata": {
    "collapsed": false,
    "ExecuteTime": {
     "end_time": "2023-12-15T01:26:51.936226Z",
     "start_time": "2023-12-15T01:26:48.621709Z"
    }
   },
   "id": "1fb16312ce8c0a79"
  },
  {
   "cell_type": "markdown",
   "source": [
    "The model says that the text is negative in sentiment with a score (probability) of `0.99`. The overall tone of the paragraph is indeed negative so we can say that the model got it right."
   ],
   "metadata": {
    "collapsed": false
   },
   "id": "1b4fbe249fefbbd0"
  },
  {
   "cell_type": "markdown",
   "source": [
    "### Named entity recognition\n",
    "\n",
    "Next, let us use the `ner` (*Named Entity Recognition*) module to get the different proper nouns in the text."
   ],
   "metadata": {
    "collapsed": false
   },
   "id": "53185292c2b0f3d3"
  },
  {
   "cell_type": "code",
   "execution_count": 4,
   "outputs": [
    {
     "name": "stderr",
     "output_type": "stream",
     "text": [
      "No model was supplied, defaulted to dbmdz/bert-large-cased-finetuned-conll03-english and revision f2482bf (https://huggingface.co/dbmdz/bert-large-cased-finetuned-conll03-english).\n",
      "Using a pipeline without specifying a model name and revision in production is not recommended.\n"
     ]
    },
    {
     "data": {
      "text/plain": "Downloading config.json:   0%|          | 0.00/998 [00:00<?, ?B/s]",
      "application/vnd.jupyter.widget-view+json": {
       "version_major": 2,
       "version_minor": 0,
       "model_id": "77b64ab01fc64c85a4594418d3ccfb02"
      }
     },
     "metadata": {},
     "output_type": "display_data"
    },
    {
     "data": {
      "text/plain": "Downloading model.safetensors:   0%|          | 0.00/1.33G [00:00<?, ?B/s]",
      "application/vnd.jupyter.widget-view+json": {
       "version_major": 2,
       "version_minor": 0,
       "model_id": "733d356815384ac8b980401a1535d47e"
      }
     },
     "metadata": {},
     "output_type": "display_data"
    },
    {
     "name": "stderr",
     "output_type": "stream",
     "text": [
      "Some weights of the model checkpoint at dbmdz/bert-large-cased-finetuned-conll03-english were not used when initializing BertForTokenClassification: ['bert.pooler.dense.weight', 'bert.pooler.dense.bias']\n",
      "- This IS expected if you are initializing BertForTokenClassification from the checkpoint of a model trained on another task or with another architecture (e.g. initializing a BertForSequenceClassification model from a BertForPreTraining model).\n",
      "- This IS NOT expected if you are initializing BertForTokenClassification from the checkpoint of a model that you expect to be exactly identical (initializing a BertForSequenceClassification model from a BertForSequenceClassification model).\n"
     ]
    },
    {
     "data": {
      "text/plain": "Downloading tokenizer_config.json:   0%|          | 0.00/60.0 [00:00<?, ?B/s]",
      "application/vnd.jupyter.widget-view+json": {
       "version_major": 2,
       "version_minor": 0,
       "model_id": "13544a2b6a1e453a93304f3d49effc36"
      }
     },
     "metadata": {},
     "output_type": "display_data"
    },
    {
     "data": {
      "text/plain": "Downloading vocab.txt:   0%|          | 0.00/213k [00:00<?, ?B/s]",
      "application/vnd.jupyter.widget-view+json": {
       "version_major": 2,
       "version_minor": 0,
       "model_id": "7eab2b5399064532a358773eca52d2f6"
      }
     },
     "metadata": {},
     "output_type": "display_data"
    },
    {
     "data": {
      "text/plain": "  entity_group     score                  word  start  end\n0         MISC  0.997629  Digital Services Act    373  393\n1         MISC  0.997892   Digital Markets Act    402  421\n2          LOC  0.998881              Brussels    500  508",
      "text/html": "<div>\n<style scoped>\n    .dataframe tbody tr th:only-of-type {\n        vertical-align: middle;\n    }\n\n    .dataframe tbody tr th {\n        vertical-align: top;\n    }\n\n    .dataframe thead th {\n        text-align: right;\n    }\n</style>\n<table border=\"1\" class=\"dataframe\">\n  <thead>\n    <tr style=\"text-align: right;\">\n      <th></th>\n      <th>entity_group</th>\n      <th>score</th>\n      <th>word</th>\n      <th>start</th>\n      <th>end</th>\n    </tr>\n  </thead>\n  <tbody>\n    <tr>\n      <th>0</th>\n      <td>MISC</td>\n      <td>0.997629</td>\n      <td>Digital Services Act</td>\n      <td>373</td>\n      <td>393</td>\n    </tr>\n    <tr>\n      <th>1</th>\n      <td>MISC</td>\n      <td>0.997892</td>\n      <td>Digital Markets Act</td>\n      <td>402</td>\n      <td>421</td>\n    </tr>\n    <tr>\n      <th>2</th>\n      <td>LOC</td>\n      <td>0.998881</td>\n      <td>Brussels</td>\n      <td>500</td>\n      <td>508</td>\n    </tr>\n  </tbody>\n</table>\n</div>"
     },
     "execution_count": 4,
     "metadata": {},
     "output_type": "execute_result"
    }
   ],
   "source": [
    "ner_tagger = pipeline(\"ner\", aggregation_strategy=\"simple\")\n",
    "ner_outputs = ner_tagger(text)\n",
    "pd.DataFrame(ner_outputs)"
   ],
   "metadata": {
    "collapsed": false,
    "ExecuteTime": {
     "end_time": "2023-12-15T01:03:58.634416Z",
     "start_time": "2023-12-15T01:03:45.676213Z"
    }
   },
   "id": "d4edd9ca15a392ed"
  },
  {
   "cell_type": "markdown",
   "source": [
    "### Question answering\n",
    "\n",
    "We can use the `question-answering` module to ask questions whose answer we expect to be present in the text. "
   ],
   "metadata": {
    "collapsed": false
   },
   "id": "80c71c480347f5cb"
  },
  {
   "cell_type": "code",
   "execution_count": 5,
   "outputs": [
    {
     "name": "stderr",
     "output_type": "stream",
     "text": [
      "No model was supplied, defaulted to distilbert-base-cased-distilled-squad and revision 626af31 (https://huggingface.co/distilbert-base-cased-distilled-squad).\n",
      "Using a pipeline without specifying a model name and revision in production is not recommended.\n"
     ]
    },
    {
     "data": {
      "text/plain": "Downloading config.json:   0%|          | 0.00/473 [00:00<?, ?B/s]",
      "application/vnd.jupyter.widget-view+json": {
       "version_major": 2,
       "version_minor": 0,
       "model_id": "1642928ec9224b069a1475dc2a6b8a71"
      }
     },
     "metadata": {},
     "output_type": "display_data"
    },
    {
     "data": {
      "text/plain": "Downloading model.safetensors:   0%|          | 0.00/261M [00:00<?, ?B/s]",
      "application/vnd.jupyter.widget-view+json": {
       "version_major": 2,
       "version_minor": 0,
       "model_id": "75c0705a267542b48583f5be961dcf42"
      }
     },
     "metadata": {},
     "output_type": "display_data"
    },
    {
     "data": {
      "text/plain": "Downloading tokenizer_config.json:   0%|          | 0.00/29.0 [00:00<?, ?B/s]",
      "application/vnd.jupyter.widget-view+json": {
       "version_major": 2,
       "version_minor": 0,
       "model_id": "587a3a083be24ab5ad27e1c251aaa2f9"
      }
     },
     "metadata": {},
     "output_type": "display_data"
    },
    {
     "data": {
      "text/plain": "Downloading vocab.txt:   0%|          | 0.00/213k [00:00<?, ?B/s]",
      "application/vnd.jupyter.widget-view+json": {
       "version_major": 2,
       "version_minor": 0,
       "model_id": "69adc292b65f4d939f97e2949865bd64"
      }
     },
     "metadata": {},
     "output_type": "display_data"
    },
    {
     "data": {
      "text/plain": "Downloading tokenizer.json:   0%|          | 0.00/436k [00:00<?, ?B/s]",
      "application/vnd.jupyter.widget-view+json": {
       "version_major": 2,
       "version_minor": 0,
       "model_id": "92771c810d5c499bbbbe26501e234f38"
      }
     },
     "metadata": {},
     "output_type": "display_data"
    },
    {
     "data": {
      "text/plain": "      score  start  end answer\n0  0.619419    683  687   €35m",
      "text/html": "<div>\n<style scoped>\n    .dataframe tbody tr th:only-of-type {\n        vertical-align: middle;\n    }\n\n    .dataframe tbody tr th {\n        vertical-align: top;\n    }\n\n    .dataframe thead th {\n        text-align: right;\n    }\n</style>\n<table border=\"1\" class=\"dataframe\">\n  <thead>\n    <tr style=\"text-align: right;\">\n      <th></th>\n      <th>score</th>\n      <th>start</th>\n      <th>end</th>\n      <th>answer</th>\n    </tr>\n  </thead>\n  <tbody>\n    <tr>\n      <th>0</th>\n      <td>0.619419</td>\n      <td>683</td>\n      <td>687</td>\n      <td>€35m</td>\n    </tr>\n  </tbody>\n</table>\n</div>"
     },
     "execution_count": 5,
     "metadata": {},
     "output_type": "execute_result"
    }
   ],
   "source": [
    "reader = pipeline(\"question-answering\")\n",
    "question = \"What is the maximum fine that can be levied under the AI act?\"\n",
    "reader_outputs = reader(question=question, context=text)\n",
    "pd.DataFrame([reader_outputs])"
   ],
   "metadata": {
    "collapsed": false,
    "ExecuteTime": {
     "end_time": "2023-12-15T01:04:02.753182Z",
     "start_time": "2023-12-15T01:03:58.635769Z"
    }
   },
   "id": "9f0e9b0a94211a59"
  },
  {
   "cell_type": "markdown",
   "source": [
    "### Summarisation\n",
    "\n",
    "The `summarization` module allows us to pick the key sentences from the text to give a summary."
   ],
   "metadata": {
    "collapsed": false
   },
   "id": "fc4a136788c93b47"
  },
  {
   "cell_type": "code",
   "execution_count": 9,
   "outputs": [
    {
     "name": "stderr",
     "output_type": "stream",
     "text": [
      "No model was supplied, defaulted to sshleifer/distilbart-cnn-12-6 and revision a4f8f3e (https://huggingface.co/sshleifer/distilbart-cnn-12-6).\n",
      "Using a pipeline without specifying a model name and revision in production is not recommended.\n"
     ]
    },
    {
     "data": {
      "text/plain": "config.json:   0%|          | 0.00/1.80k [00:00<?, ?B/s]",
      "application/vnd.jupyter.widget-view+json": {
       "version_major": 2,
       "version_minor": 0,
       "model_id": "87a73fe4771d4d618be5ba0c28d6e791"
      }
     },
     "metadata": {},
     "output_type": "display_data"
    },
    {
     "data": {
      "text/plain": "pytorch_model.bin:   0%|          | 0.00/1.22G [00:00<?, ?B/s]",
      "application/vnd.jupyter.widget-view+json": {
       "version_major": 2,
       "version_minor": 0,
       "model_id": "448b72c7c37a40d78f055df51c000c8b"
      }
     },
     "metadata": {},
     "output_type": "display_data"
    },
    {
     "data": {
      "text/plain": "pytorch_model.bin:   0%|          | 0.00/1.22G [00:00<?, ?B/s]",
      "application/vnd.jupyter.widget-view+json": {
       "version_major": 2,
       "version_minor": 0,
       "model_id": "bb05827f908240b59f17a585aac50bbd"
      }
     },
     "metadata": {},
     "output_type": "display_data"
    },
    {
     "name": "stderr",
     "output_type": "stream",
     "text": [
      "Error while downloading from https://cdn-lfs.huggingface.co/sshleifer/distilbart-cnn-12-6/3bac65d18c99463302d12ca75c2220ea714f9c81ce235f205fa818efe71df6ea?response-content-disposition=attachment%3B+filename*%3DUTF-8%27%27pytorch_model.bin%3B+filename%3D%22pytorch_model.bin%22%3B&response-content-type=application%2Foctet-stream&Expires=1702591746&Policy=eyJTdGF0ZW1lbnQiOlt7IkNvbmRpdGlvbiI6eyJEYXRlTGVzc1RoYW4iOnsiQVdTOkVwb2NoVGltZSI6MTcwMjU5MTc0Nn19LCJSZXNvdXJjZSI6Imh0dHBzOi8vY2RuLWxmcy5odWdnaW5nZmFjZS5jby9zc2hsZWlmZXIvZGlzdGlsYmFydC1jbm4tMTItNi8zYmFjNjVkMThjOTk0NjMzMDJkMTJjYTc1YzIyMjBlYTcxNGY5YzgxY2UyMzVmMjA1ZmE4MThlZmU3MWRmNmVhP3Jlc3BvbnNlLWNvbnRlbnQtZGlzcG9zaXRpb249KiZyZXNwb25zZS1jb250ZW50LXR5cGU9KiJ9XX0_&Signature=Cbd12jbwZkk2zriKH9nr58PklUVxSEsM7iBqvHxY5BqfcLLQ7oCzn8K2qhQ7gjdCGu-b-F3K%7EIq%7E1Ec0XwTnWRF0bCZtBmQ81%7Eleset3z2FZYYyd6AbyZVFg%7ECGtIDWMFL2EBj%7EuN2POzGZUA0tjnCGRohzoXQST8r2hjELSx%7E1cgucQZIocjb-al%7EZk%7EqEr75B4638mhJtd1Eqc9hVA%7EtPmbdH4PnHEnp6Q1hfQDec0GHdJKC2lWcSW19z2oljOaQcjMHRecKHXFWVmDjEfkcdPCo-uyWmdMqACCs1yughuXIrAVbwVQvU9SYs3cbWuIv3KCV2PQRXc5VbKGLY4Ug__&Key-Pair-Id=KVTP0A1DKRTAX: HTTPSConnectionPool(host='cdn-lfs.huggingface.co', port=443): Read timed out.\n",
      "Trying to resume download...\n"
     ]
    },
    {
     "data": {
      "text/plain": "pytorch_model.bin:   6%|6         | 73.4M/1.22G [00:00<?, ?B/s]",
      "application/vnd.jupyter.widget-view+json": {
       "version_major": 2,
       "version_minor": 0,
       "model_id": "05a94608dd46435984df8a945727713c"
      }
     },
     "metadata": {},
     "output_type": "display_data"
    },
    {
     "name": "stderr",
     "output_type": "stream",
     "text": [
      "Error while downloading from https://cdn-lfs.huggingface.co/sshleifer/distilbart-cnn-12-6/3bac65d18c99463302d12ca75c2220ea714f9c81ce235f205fa818efe71df6ea?response-content-disposition=attachment%3B+filename*%3DUTF-8%27%27pytorch_model.bin%3B+filename%3D%22pytorch_model.bin%22%3B&response-content-type=application%2Foctet-stream&Expires=1702591746&Policy=eyJTdGF0ZW1lbnQiOlt7IkNvbmRpdGlvbiI6eyJEYXRlTGVzc1RoYW4iOnsiQVdTOkVwb2NoVGltZSI6MTcwMjU5MTc0Nn19LCJSZXNvdXJjZSI6Imh0dHBzOi8vY2RuLWxmcy5odWdnaW5nZmFjZS5jby9zc2hsZWlmZXIvZGlzdGlsYmFydC1jbm4tMTItNi8zYmFjNjVkMThjOTk0NjMzMDJkMTJjYTc1YzIyMjBlYTcxNGY5YzgxY2UyMzVmMjA1ZmE4MThlZmU3MWRmNmVhP3Jlc3BvbnNlLWNvbnRlbnQtZGlzcG9zaXRpb249KiZyZXNwb25zZS1jb250ZW50LXR5cGU9KiJ9XX0_&Signature=Cbd12jbwZkk2zriKH9nr58PklUVxSEsM7iBqvHxY5BqfcLLQ7oCzn8K2qhQ7gjdCGu-b-F3K%7EIq%7E1Ec0XwTnWRF0bCZtBmQ81%7Eleset3z2FZYYyd6AbyZVFg%7ECGtIDWMFL2EBj%7EuN2POzGZUA0tjnCGRohzoXQST8r2hjELSx%7E1cgucQZIocjb-al%7EZk%7EqEr75B4638mhJtd1Eqc9hVA%7EtPmbdH4PnHEnp6Q1hfQDec0GHdJKC2lWcSW19z2oljOaQcjMHRecKHXFWVmDjEfkcdPCo-uyWmdMqACCs1yughuXIrAVbwVQvU9SYs3cbWuIv3KCV2PQRXc5VbKGLY4Ug__&Key-Pair-Id=KVTP0A1DKRTAX: HTTPSConnectionPool(host='cdn-lfs.huggingface.co', port=443): Read timed out.\n",
      "Trying to resume download...\n"
     ]
    },
    {
     "data": {
      "text/plain": "pytorch_model.bin:  40%|####      | 493M/1.22G [00:00<?, ?B/s]",
      "application/vnd.jupyter.widget-view+json": {
       "version_major": 2,
       "version_minor": 0,
       "model_id": "c0b5a5250ec0413aa7db4760f536977b"
      }
     },
     "metadata": {},
     "output_type": "display_data"
    },
    {
     "data": {
      "text/plain": "tokenizer_config.json:   0%|          | 0.00/26.0 [00:00<?, ?B/s]",
      "application/vnd.jupyter.widget-view+json": {
       "version_major": 2,
       "version_minor": 0,
       "model_id": "5697a4c168404662a620c65e2f4c900a"
      }
     },
     "metadata": {},
     "output_type": "display_data"
    },
    {
     "data": {
      "text/plain": "vocab.json:   0%|          | 0.00/899k [00:00<?, ?B/s]",
      "application/vnd.jupyter.widget-view+json": {
       "version_major": 2,
       "version_minor": 0,
       "model_id": "ace0402b96e64b9e9e0d0ade7f18bca3"
      }
     },
     "metadata": {},
     "output_type": "display_data"
    },
    {
     "data": {
      "text/plain": "merges.txt:   0%|          | 0.00/456k [00:00<?, ?B/s]",
      "application/vnd.jupyter.widget-view+json": {
       "version_major": 2,
       "version_minor": 0,
       "model_id": "6ce2f3614849405cb334b70c41f0b5da"
      }
     },
     "metadata": {},
     "output_type": "display_data"
    },
    {
     "name": "stderr",
     "output_type": "stream",
     "text": [
      "Your min_length=56 must be inferior than your max_length=45.\n",
      "/Users/tejaskale/Code/nlp_with_transformers/venv/lib/python3.9/site-packages/transformers/generation/utils.py:1380: UserWarning: Unfeasible length constraints: `min_length` (56) is larger than the maximum possible length (45). Generation will stop at the defined maximum length. You should decrease the minimum length and/or increase the maximum length.\n",
      "  warnings.warn(\n"
     ]
    },
    {
     "name": "stdout",
     "output_type": "stream",
     "text": [
      " It is not clear how well the ai act will be enforced, given that it is a club of independent countries. In the case of the gdpr, national data-protection agencies are mainly in charge\n"
     ]
    }
   ],
   "source": [
    "summariser = pipeline(\"summarization\")\n",
    "summariser_outputs = summariser(text, max_length=45, clean_up_tokenization_spaces=True)\n",
    "print(summariser_outputs[0][\"summary_text\"])"
   ],
   "metadata": {
    "collapsed": false,
    "ExecuteTime": {
     "end_time": "2023-12-11T22:23:50.894546Z",
     "start_time": "2023-12-11T21:53:11.301104Z"
    }
   },
   "id": "44a0f3d3de871d62"
  },
  {
   "cell_type": "markdown",
   "source": [
    "### Translation\n",
    "\n",
    "Hugging Face also provides various modules to convert text from one language to another."
   ],
   "metadata": {
    "collapsed": false
   },
   "id": "a99cb360dcf3b8c0"
  },
  {
   "cell_type": "code",
   "execution_count": 10,
   "outputs": [
    {
     "data": {
      "text/plain": "config.json:   0%|          | 0.00/1.33k [00:00<?, ?B/s]",
      "application/vnd.jupyter.widget-view+json": {
       "version_major": 2,
       "version_minor": 0,
       "model_id": "34f129ded41f4abbaf5846eb561baa96"
      }
     },
     "metadata": {},
     "output_type": "display_data"
    },
    {
     "data": {
      "text/plain": "pytorch_model.bin:   0%|          | 0.00/298M [00:00<?, ?B/s]",
      "application/vnd.jupyter.widget-view+json": {
       "version_major": 2,
       "version_minor": 0,
       "model_id": "2fc628c8c2e1486099d82b50a7662107"
      }
     },
     "metadata": {},
     "output_type": "display_data"
    },
    {
     "data": {
      "text/plain": "generation_config.json:   0%|          | 0.00/293 [00:00<?, ?B/s]",
      "application/vnd.jupyter.widget-view+json": {
       "version_major": 2,
       "version_minor": 0,
       "model_id": "6e6fc67e4bed4f2a8bdf18ffe9943a94"
      }
     },
     "metadata": {},
     "output_type": "display_data"
    },
    {
     "data": {
      "text/plain": "tokenizer_config.json:   0%|          | 0.00/42.0 [00:00<?, ?B/s]",
      "application/vnd.jupyter.widget-view+json": {
       "version_major": 2,
       "version_minor": 0,
       "model_id": "e8b081b321d84d99a30311a97ec4f18d"
      }
     },
     "metadata": {},
     "output_type": "display_data"
    },
    {
     "data": {
      "text/plain": "source.spm:   0%|          | 0.00/768k [00:00<?, ?B/s]",
      "application/vnd.jupyter.widget-view+json": {
       "version_major": 2,
       "version_minor": 0,
       "model_id": "89b41ee0bed944bcafb3a919dd3c2fe6"
      }
     },
     "metadata": {},
     "output_type": "display_data"
    },
    {
     "data": {
      "text/plain": "target.spm:   0%|          | 0.00/797k [00:00<?, ?B/s]",
      "application/vnd.jupyter.widget-view+json": {
       "version_major": 2,
       "version_minor": 0,
       "model_id": "5e79cac6b7d443e7840ff658d6b68db0"
      }
     },
     "metadata": {},
     "output_type": "display_data"
    },
    {
     "data": {
      "text/plain": "vocab.json:   0%|          | 0.00/1.27M [00:00<?, ?B/s]",
      "application/vnd.jupyter.widget-view+json": {
       "version_major": 2,
       "version_minor": 0,
       "model_id": "78085f01679b449889d8f55584927837"
      }
     },
     "metadata": {},
     "output_type": "display_data"
    },
    {
     "name": "stderr",
     "output_type": "stream",
     "text": [
      "/Users/tejaskale/Code/nlp_with_transformers/venv/lib/python3.9/site-packages/transformers/models/marian/tokenization_marian.py:197: UserWarning: Recommended: pip install sacremoses.\n",
      "  warnings.warn(\"Recommended: pip install sacremoses.\")\n"
     ]
    },
    {
     "name": "stdout",
     "output_type": "stream",
     "text": [
      "Am wichtigsten ist, dass nicht klar ist, wie gut das ai-Gesetz durchgesetzt werden wird – ein anhaltendes Problem mit den jüngsten digitalen Gesetzen, die von der eu verabschiedet wurden, da es sich um einen Club unabhängiger Länder handelt. Im Falle des gdpr sind die nationalen Datenschutzagenturen hauptsächlich zuständig, was zu unterschiedlichen Auslegungen der Regeln und weniger als einer optimalen Durchsetzung geführt hat. Im Fall des Digital Services Act und des Digital Markets Act, zwei neuere Gesetze zur Regulierung von Online-Plattformen, konzentriert sich die Durchsetzung in Brüssel bei der Kommission. Der ai-Gesetz ist eher ein Mix, aber Experten befürchten, dass einigen nationalen Gremien das Know-how fehlt, um Verstöße zu verfolgen, was zu Geldbußen von bis zu 35 Mio. € (38 Mio. $) oder 7% der weltweiten Einnahmen eines Unternehmens führen kann.\n"
     ]
    }
   ],
   "source": [
    "translator = pipeline(\"translation_en_to_de\", model=\"Helsinki-NLP/opus-mt-en-de\")\n",
    "translator_outputs = translator(text, clean_up_tokenization_spaces=True, min_length=100)\n",
    "print(translator_outputs[0][\"translation_text\"])"
   ],
   "metadata": {
    "collapsed": false,
    "ExecuteTime": {
     "end_time": "2023-12-11T22:36:51.645309Z",
     "start_time": "2023-12-11T22:36:13.736791Z"
    }
   },
   "id": "686a3619cb623547"
  },
  {
   "cell_type": "markdown",
   "source": [
    "### Text generation\n",
    "\n",
    "Finally, we can use the `text-generation` module to generate text based on the text as context and a prompt."
   ],
   "metadata": {
    "collapsed": false
   },
   "id": "709e08244e10fed3"
  },
  {
   "cell_type": "code",
   "execution_count": 11,
   "outputs": [
    {
     "name": "stderr",
     "output_type": "stream",
     "text": [
      "No model was supplied, defaulted to gpt2 and revision 6c0e608 (https://huggingface.co/gpt2).\n",
      "Using a pipeline without specifying a model name and revision in production is not recommended.\n"
     ]
    },
    {
     "data": {
      "text/plain": "config.json:   0%|          | 0.00/665 [00:00<?, ?B/s]",
      "application/vnd.jupyter.widget-view+json": {
       "version_major": 2,
       "version_minor": 0,
       "model_id": "965feb2fae3742888a723e16aa8d834c"
      }
     },
     "metadata": {},
     "output_type": "display_data"
    },
    {
     "data": {
      "text/plain": "model.safetensors:   0%|          | 0.00/548M [00:00<?, ?B/s]",
      "application/vnd.jupyter.widget-view+json": {
       "version_major": 2,
       "version_minor": 0,
       "model_id": "57d6b558c6794477bb908e42891884fc"
      }
     },
     "metadata": {},
     "output_type": "display_data"
    },
    {
     "data": {
      "text/plain": "generation_config.json:   0%|          | 0.00/124 [00:00<?, ?B/s]",
      "application/vnd.jupyter.widget-view+json": {
       "version_major": 2,
       "version_minor": 0,
       "model_id": "dc318e38abd64f498541d357e8d445e2"
      }
     },
     "metadata": {},
     "output_type": "display_data"
    },
    {
     "data": {
      "text/plain": "vocab.json:   0%|          | 0.00/1.04M [00:00<?, ?B/s]",
      "application/vnd.jupyter.widget-view+json": {
       "version_major": 2,
       "version_minor": 0,
       "model_id": "f2d8e22c8d144419b297be36d39be766"
      }
     },
     "metadata": {},
     "output_type": "display_data"
    },
    {
     "data": {
      "text/plain": "merges.txt:   0%|          | 0.00/456k [00:00<?, ?B/s]",
      "application/vnd.jupyter.widget-view+json": {
       "version_major": 2,
       "version_minor": 0,
       "model_id": "ca7125e169364914919e3c885b91f781"
      }
     },
     "metadata": {},
     "output_type": "display_data"
    },
    {
     "data": {
      "text/plain": "tokenizer.json:   0%|          | 0.00/1.36M [00:00<?, ?B/s]",
      "application/vnd.jupyter.widget-view+json": {
       "version_major": 2,
       "version_minor": 0,
       "model_id": "d868398724bf4f64a3563d5d79185178"
      }
     },
     "metadata": {},
     "output_type": "display_data"
    },
    {
     "name": "stderr",
     "output_type": "stream",
     "text": [
      "Setting `pad_token_id` to `eos_token_id`:50256 for open-end generation.\n"
     ]
    },
    {
     "name": "stdout",
     "output_type": "stream",
     "text": [
      "\n",
      "Most important, it is not clear how well the ai act will be enforced—an ongoing problem with recent digital laws passed by the eu, given that it is a club of independent countries. In the case of the gdpr, national data-protection agencies are mainly in charge, which has led to differing interpretations of the rules and less than optimal enforcement. In the case of the Digital Services Act and the Digital Markets Act, two recent laws to regulate online platforms, enforcement is concentrated in Brussels at the commission. The ai act is more of a mix, but experts worry that some national bodies will lack the expertise to prosecute violations, which can lead to fines of up to €35m ($38m) or 7% of a company’s global revenue.\n",
      "There are additional challenges to regulating AI including the risk that some firms in the industry may be targeted by law enforcement. To achieve this, these issues need to be dealt with first. In order to tackle the\n"
     ]
    }
   ],
   "source": [
    "generator = pipeline(\"text-generation\")\n",
    "response = \"There are additional challenges to regulating AI including\"\n",
    "prompt = text + response\n",
    "generator_outputs = generator(prompt, max_length=200)\n",
    "print(generator_outputs[0][\"generated_text\"])"
   ],
   "metadata": {
    "collapsed": false,
    "ExecuteTime": {
     "end_time": "2023-12-11T22:37:49.287021Z",
     "start_time": "2023-12-11T22:36:51.650286Z"
    }
   },
   "id": "1c62479539d38fd7"
  },
  {
   "cell_type": "code",
   "execution_count": null,
   "outputs": [],
   "source": [],
   "metadata": {
    "collapsed": false
   },
   "id": "726a6af908dd49d1"
  }
 ],
 "metadata": {
  "kernelspec": {
   "display_name": "Python 3",
   "language": "python",
   "name": "python3"
  },
  "language_info": {
   "codemirror_mode": {
    "name": "ipython",
    "version": 2
   },
   "file_extension": ".py",
   "mimetype": "text/x-python",
   "name": "python",
   "nbconvert_exporter": "python",
   "pygments_lexer": "ipython2",
   "version": "2.7.6"
  }
 },
 "nbformat": 4,
 "nbformat_minor": 5
}
