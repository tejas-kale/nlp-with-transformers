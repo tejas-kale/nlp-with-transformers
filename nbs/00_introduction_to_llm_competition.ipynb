{
 "cells": [
  {
   "cell_type": "markdown",
   "id": "c757001c",
   "metadata": {
    "papermill": {
     "duration": 0.004159,
     "end_time": "2023-12-15T18:43:12.981619",
     "exception": false,
     "start_time": "2023-12-15T18:43:12.977460",
     "status": "completed"
    },
    "tags": []
   },
   "source": [
    "Following the steps in the [Chapter 2](https://learning.oreilly.com/library/view/natural-language-processing/9781098136789/ch02.html) of the book *Natural Language Processing with Transformers*, we will build a classification model on the data from the Kaggle competition [LLM - Detect AI Generated Text](https://www.kaggle.com/competitions/llm-detect-ai-generated-text/data). We will do so using the Huggingface `transformers` package and the `DistilBERT` model."
   ]
  },
  {
   "cell_type": "code",
   "execution_count": 1,
   "id": "15407083",
   "metadata": {
    "ExecuteTime": {
     "end_time": "2023-12-11T17:21:30.038641Z",
     "start_time": "2023-12-11T17:21:30.036339Z"
    },
    "collapsed": false,
    "execution": {
     "iopub.execute_input": "2023-12-15T18:43:12.991405Z",
     "iopub.status.busy": "2023-12-15T18:43:12.990847Z",
     "iopub.status.idle": "2023-12-15T18:43:13.953897Z",
     "shell.execute_reply": "2023-12-15T18:43:13.952651Z"
    },
    "jupyter": {
     "outputs_hidden": false
    },
    "papermill": {
     "duration": 0.971347,
     "end_time": "2023-12-15T18:43:13.956745",
     "exception": false,
     "start_time": "2023-12-15T18:43:12.985398",
     "status": "completed"
    },
    "tags": []
   },
   "outputs": [],
   "source": [
    "import os\n",
    "\n",
    "import pandas as pd"
   ]
  },
  {
   "cell_type": "markdown",
   "id": "998db229",
   "metadata": {
    "papermill": {
     "duration": 0.003353,
     "end_time": "2023-12-15T18:43:13.963880",
     "exception": false,
     "start_time": "2023-12-15T18:43:13.960527",
     "status": "completed"
    },
    "tags": []
   },
   "source": [
    "### Dataset\n",
    "\n",
    "First, let us load the training data which consists of essays written by students and LLMs based on 2 prompts. There is a class imbalance in the data i.e. there are way more student essays."
   ]
  },
  {
   "cell_type": "code",
   "execution_count": 2,
   "id": "d5aff963",
   "metadata": {
    "ExecuteTime": {
     "end_time": "2023-12-11T17:20:56.061707Z",
     "start_time": "2023-12-11T17:20:56.058565Z"
    },
    "collapsed": false,
    "execution": {
     "iopub.execute_input": "2023-12-15T18:43:13.973421Z",
     "iopub.status.busy": "2023-12-15T18:43:13.972865Z",
     "iopub.status.idle": "2023-12-15T18:43:13.978534Z",
     "shell.execute_reply": "2023-12-15T18:43:13.977255Z"
    },
    "jupyter": {
     "outputs_hidden": false
    },
    "papermill": {
     "duration": 0.013974,
     "end_time": "2023-12-15T18:43:13.981334",
     "exception": false,
     "start_time": "2023-12-15T18:43:13.967360",
     "status": "completed"
    },
    "tags": []
   },
   "outputs": [],
   "source": [
    "data_dir: str = \"/kaggle/input/daigt-v2-train-dataset\""
   ]
  },
  {
   "cell_type": "code",
   "execution_count": 3,
   "id": "96db7573",
   "metadata": {
    "ExecuteTime": {
     "end_time": "2023-12-11T17:21:46.586962Z",
     "start_time": "2023-12-11T17:21:46.535354Z"
    },
    "collapsed": false,
    "execution": {
     "iopub.execute_input": "2023-12-15T18:43:13.991089Z",
     "iopub.status.busy": "2023-12-15T18:43:13.990681Z",
     "iopub.status.idle": "2023-12-15T18:43:16.294200Z",
     "shell.execute_reply": "2023-12-15T18:43:16.293053Z"
    },
    "jupyter": {
     "outputs_hidden": false
    },
    "papermill": {
     "duration": 2.311403,
     "end_time": "2023-12-15T18:43:16.296832",
     "exception": false,
     "start_time": "2023-12-15T18:43:13.985429",
     "status": "completed"
    },
    "tags": []
   },
   "outputs": [
    {
     "data": {
      "text/html": [
       "<div>\n",
       "<style scoped>\n",
       "    .dataframe tbody tr th:only-of-type {\n",
       "        vertical-align: middle;\n",
       "    }\n",
       "\n",
       "    .dataframe tbody tr th {\n",
       "        vertical-align: top;\n",
       "    }\n",
       "\n",
       "    .dataframe thead th {\n",
       "        text-align: right;\n",
       "    }\n",
       "</style>\n",
       "<table border=\"1\" class=\"dataframe\">\n",
       "  <thead>\n",
       "    <tr style=\"text-align: right;\">\n",
       "      <th></th>\n",
       "      <th>text</th>\n",
       "      <th>label</th>\n",
       "      <th>prompt_name</th>\n",
       "      <th>source</th>\n",
       "      <th>RDizzl3_seven</th>\n",
       "    </tr>\n",
       "  </thead>\n",
       "  <tbody>\n",
       "    <tr>\n",
       "      <th>0</th>\n",
       "      <td>Phones\\n\\nModern humans today are always on th...</td>\n",
       "      <td>0</td>\n",
       "      <td>Phones and driving</td>\n",
       "      <td>persuade_corpus</td>\n",
       "      <td>False</td>\n",
       "    </tr>\n",
       "    <tr>\n",
       "      <th>1</th>\n",
       "      <td>This essay will explain if drivers should or s...</td>\n",
       "      <td>0</td>\n",
       "      <td>Phones and driving</td>\n",
       "      <td>persuade_corpus</td>\n",
       "      <td>False</td>\n",
       "    </tr>\n",
       "    <tr>\n",
       "      <th>2</th>\n",
       "      <td>Driving while the use of cellular devices\\n\\nT...</td>\n",
       "      <td>0</td>\n",
       "      <td>Phones and driving</td>\n",
       "      <td>persuade_corpus</td>\n",
       "      <td>False</td>\n",
       "    </tr>\n",
       "    <tr>\n",
       "      <th>3</th>\n",
       "      <td>Phones &amp; Driving\\n\\nDrivers should not be able...</td>\n",
       "      <td>0</td>\n",
       "      <td>Phones and driving</td>\n",
       "      <td>persuade_corpus</td>\n",
       "      <td>False</td>\n",
       "    </tr>\n",
       "    <tr>\n",
       "      <th>4</th>\n",
       "      <td>Cell Phone Operation While Driving\\n\\nThe abil...</td>\n",
       "      <td>0</td>\n",
       "      <td>Phones and driving</td>\n",
       "      <td>persuade_corpus</td>\n",
       "      <td>False</td>\n",
       "    </tr>\n",
       "  </tbody>\n",
       "</table>\n",
       "</div>"
      ],
      "text/plain": [
       "                                                text  label  \\\n",
       "0  Phones\\n\\nModern humans today are always on th...      0   \n",
       "1  This essay will explain if drivers should or s...      0   \n",
       "2  Driving while the use of cellular devices\\n\\nT...      0   \n",
       "3  Phones & Driving\\n\\nDrivers should not be able...      0   \n",
       "4  Cell Phone Operation While Driving\\n\\nThe abil...      0   \n",
       "\n",
       "          prompt_name           source  RDizzl3_seven  \n",
       "0  Phones and driving  persuade_corpus          False  \n",
       "1  Phones and driving  persuade_corpus          False  \n",
       "2  Phones and driving  persuade_corpus          False  \n",
       "3  Phones and driving  persuade_corpus          False  \n",
       "4  Phones and driving  persuade_corpus          False  "
      ]
     },
     "execution_count": 3,
     "metadata": {},
     "output_type": "execute_result"
    }
   ],
   "source": [
    "train_essays: pd.DataFrame = pd.read_csv(os.path.join(data_dir, \"train_v2_drcat_02.csv\"))\n",
    "train_essays.head()"
   ]
  },
  {
   "cell_type": "code",
   "execution_count": 4,
   "id": "89d78ae8",
   "metadata": {
    "ExecuteTime": {
     "end_time": "2023-12-11T17:22:01.516327Z",
     "start_time": "2023-12-11T17:22:01.493936Z"
    },
    "collapsed": false,
    "execution": {
     "iopub.execute_input": "2023-12-15T18:43:16.306522Z",
     "iopub.status.busy": "2023-12-15T18:43:16.305906Z",
     "iopub.status.idle": "2023-12-15T18:43:16.328496Z",
     "shell.execute_reply": "2023-12-15T18:43:16.327158Z"
    },
    "jupyter": {
     "outputs_hidden": false
    },
    "papermill": {
     "duration": 0.030235,
     "end_time": "2023-12-15T18:43:16.331033",
     "exception": false,
     "start_time": "2023-12-15T18:43:16.300798",
     "status": "completed"
    },
    "tags": []
   },
   "outputs": [
    {
     "data": {
      "text/plain": [
       "source\n",
       "persuade_corpus                       25996\n",
       "mistral7binstruct_v1                   2421\n",
       "mistral7binstruct_v2                   2421\n",
       "chat_gpt_moth                          2421\n",
       "llama2_chat                            2421\n",
       "kingki19_palm                          1384\n",
       "train_essays                           1378\n",
       "llama_70b_v1                           1172\n",
       "falcon_180b_v1                         1055\n",
       "darragh_claude_v6                      1000\n",
       "darragh_claude_v7                      1000\n",
       "radek_500                               500\n",
       "NousResearch/Llama-2-7b-chat-hf         400\n",
       "mistralai/Mistral-7B-Instruct-v0.1      400\n",
       "cohere-command                          350\n",
       "palm-text-bison1                        349\n",
       "radekgpt4                               200\n",
       "Name: count, dtype: int64"
      ]
     },
     "execution_count": 4,
     "metadata": {},
     "output_type": "execute_result"
    }
   ],
   "source": [
    "train_essays.source.value_counts()"
   ]
  },
  {
   "cell_type": "code",
   "execution_count": null,
   "id": "4ea55ce9",
   "metadata": {
    "collapsed": false,
    "jupyter": {
     "outputs_hidden": false
    },
    "papermill": {
     "duration": 0.00388,
     "end_time": "2023-12-15T18:43:16.339138",
     "exception": false,
     "start_time": "2023-12-15T18:43:16.335258",
     "status": "completed"
    },
    "tags": []
   },
   "outputs": [],
   "source": []
  }
 ],
 "metadata": {
  "kaggle": {
   "accelerator": "none",
   "dataSources": [
    {
     "databundleVersionId": 6888007,
     "sourceId": 61542,
     "sourceType": "competition"
    },
    {
     "datasetId": 4005256,
     "sourceId": 6977472,
     "sourceType": "datasetVersion"
    }
   ],
   "dockerImageVersionId": 30615,
   "isGpuEnabled": false,
   "isInternetEnabled": true,
   "language": "python",
   "sourceType": "notebook"
  },
  "kernelspec": {
   "display_name": "Python 3",
   "language": "python",
   "name": "python3"
  },
  "language_info": {
   "codemirror_mode": {
    "name": "ipython",
    "version": 3
   },
   "file_extension": ".py",
   "mimetype": "text/x-python",
   "name": "python",
   "nbconvert_exporter": "python",
   "pygments_lexer": "ipython3",
   "version": "3.10.12"
  },
  "papermill": {
   "default_parameters": {},
   "duration": 8.400241,
   "end_time": "2023-12-15T18:43:16.864765",
   "environment_variables": {},
   "exception": null,
   "input_path": "__notebook__.ipynb",
   "output_path": "__notebook__.ipynb",
   "parameters": {},
   "start_time": "2023-12-15T18:43:08.464524",
   "version": "2.4.0"
  }
 },
 "nbformat": 4,
 "nbformat_minor": 5
}
